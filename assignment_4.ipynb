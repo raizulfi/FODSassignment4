{
  "nbformat": 4,
  "nbformat_minor": 0,
  "metadata": {
    "colab": {
      "provenance": []
    },
    "kernelspec": {
      "name": "python3",
      "display_name": "Python 3"
    },
    "language_info": {
      "name": "python"
    }
  },
  "cells": [
    {
      "cell_type": "code",
      "execution_count": 36,
      "metadata": {
        "id": "zAVv7DVRvhBo"
      },
      "outputs": [],
      "source": [
        "import pandas as pd\n",
        "from math import sqrt\n",
        "import numpy as np\n",
        "from  google.colab import drive"
      ]
    },
    {
      "cell_type": "code",
      "source": [
        "from google.colab import drive\n",
        "drive.mount('/content/drive')"
      ],
      "metadata": {
        "colab": {
          "base_uri": "https://localhost:8080/"
        },
        "id": "EYJ3uK5YARxk",
        "outputId": "4ccf34bf-3023-4af9-aba2-997888a3e7ec"
      },
      "execution_count": 37,
      "outputs": [
        {
          "output_type": "stream",
          "name": "stdout",
          "text": [
            "Drive already mounted at /content/drive; to attempt to forcibly remount, call drive.mount(\"/content/drive\", force_remount=True).\n"
          ]
        }
      ]
    },
    {
      "cell_type": "code",
      "source": [
        "movies_df = pd.read_csv('/content/drive/MyDrive/fods_assignment4/fods_assignment4/movies.csv')\n",
        "ratings_df = pd.read_csv('/content/drive/MyDrive/fods_assignment4/fods_assignment4/ratings.csv')\n",
        "ratings_df.info()"
      ],
      "metadata": {
        "colab": {
          "base_uri": "https://localhost:8080/"
        },
        "id": "_iOvaGf3vunO",
        "outputId": "d8ddae23-b636-4765-8756-7e78736562b0"
      },
      "execution_count": 38,
      "outputs": [
        {
          "output_type": "stream",
          "name": "stdout",
          "text": [
            "<class 'pandas.core.frame.DataFrame'>\n",
            "RangeIndex: 100836 entries, 0 to 100835\n",
            "Data columns (total 4 columns):\n",
            " #   Column     Non-Null Count   Dtype  \n",
            "---  ------     --------------   -----  \n",
            " 0   userId     100836 non-null  int64  \n",
            " 1   movieId    100836 non-null  int64  \n",
            " 2   rating     100836 non-null  float64\n",
            " 3   timestamp  100836 non-null  int64  \n",
            "dtypes: float64(1), int64(3)\n",
            "memory usage: 3.1 MB\n"
          ]
        }
      ]
    },
    {
      "cell_type": "code",
      "source": [
        "userInput = [{'title':'Mortal Kombat (1995)', 'rating':2},\n",
        "             {'title':'To Die For (1995)', 'rating':4},\n",
        "             {'title':'The Lego Batman Movie (2017)', 'rating':5},\n",
        "             {'title':'Pocahontas (1995)', 'rating':3},\n",
        "             {'title':'Akira (1988)', 'rating':4}]\n",
        "inputMovies = pd.DataFrame(userInput)\n",
        "print(inputMovies)"
      ],
      "metadata": {
        "colab": {
          "base_uri": "https://localhost:8080/"
        },
        "id": "NOGrO3oyx3dT",
        "outputId": "b402b91c-7a62-41a0-a297-f474e423cb5f"
      },
      "execution_count": 39,
      "outputs": [
        {
          "output_type": "stream",
          "name": "stdout",
          "text": [
            "                          title  rating\n",
            "0          Mortal Kombat (1995)       2\n",
            "1             To Die For (1995)       4\n",
            "2  The Lego Batman Movie (2017)       5\n",
            "3             Pocahontas (1995)       3\n",
            "4                  Akira (1988)       4\n"
          ]
        }
      ]
    },
    {
      "cell_type": "code",
      "source": [
        "inputId = movies_df[movies_df['title'].isin(inputMovies['title'].tolist())]\n",
        "inputMovies = pd.merge(inputId, inputMovies)\n",
        "inputMovies = inputMovies[['movieId','title','rating']]\n",
        "print(inputMovies)\n"
      ],
      "metadata": {
        "colab": {
          "base_uri": "https://localhost:8080/"
        },
        "id": "3MLV83Rt0OYX",
        "outputId": "e8b6e70b-d072-4bc4-ec1a-f04c7c7e3df3"
      },
      "execution_count": 40,
      "outputs": [
        {
          "output_type": "stream",
          "name": "stdout",
          "text": [
            "   movieId                         title  rating\n",
            "0       44          Mortal Kombat (1995)       2\n",
            "1       45             To Die For (1995)       4\n",
            "2       48             Pocahontas (1995)       3\n",
            "3     1274                  Akira (1988)       4\n",
            "4   167746  The Lego Batman Movie (2017)       5\n"
          ]
        }
      ]
    },
    {
      "cell_type": "code",
      "source": [
        "userSubset = ratings_df[ratings_df['movieId'].isin(inputMovies['movieId'].tolist())]\n",
        "print(userSubset.groupby('movieId').count())\n"
      ],
      "metadata": {
        "colab": {
          "base_uri": "https://localhost:8080/"
        },
        "id": "63EJm4mK1OUA",
        "outputId": "460126bd-d2df-40fb-c6f0-4a95081e614f"
      },
      "execution_count": 41,
      "outputs": [
        {
          "output_type": "stream",
          "name": "stdout",
          "text": [
            "         userId  rating  timestamp\n",
            "movieId                           \n",
            "44           46      46         46\n",
            "45           32      32         32\n",
            "48           68      68         68\n",
            "1274         39      39         39\n",
            "167746        7       7          7\n"
          ]
        }
      ]
    },
    {
      "cell_type": "code",
      "source": [
        "userSubsetGroup = userSubset.groupby(['userId'])\n",
        "\n",
        "def take_5_elem(x):\n",
        "    return len(x[1])\n",
        "\n",
        "userSubsetGroup = sorted(userSubsetGroup, key=take_5_elem, reverse=True)\n",
        "\n",
        "userSubsetGroup = userSubsetGroup[0:100]\n",
        "print(userSubsetGroup[0:5])"
      ],
      "metadata": {
        "colab": {
          "base_uri": "https://localhost:8080/"
        },
        "id": "4AnjN_Yh1Ueq",
        "outputId": "bc709897-f732-4764-c521-a3e76efa4035"
      },
      "execution_count": 42,
      "outputs": [
        {
          "output_type": "stream",
          "name": "stdout",
          "text": [
            "[(414,        userId  movieId  rating  timestamp\n",
            "62319     414       44     2.0  961516249\n",
            "62320     414       45     3.0  961438476\n",
            "62323     414       48     3.0  961437741\n",
            "62769     414     1274     4.0  997200022), (182,        userId  movieId  rating   timestamp\n",
            "26107     182       44     1.5  1055150820\n",
            "26108     182       45     3.0  1075764933\n",
            "26301     182     1274     5.0  1054779799), (274,        userId  movieId  rating   timestamp\n",
            "39244     274       44     4.0  1171759773\n",
            "39246     274       48     2.0  1171943719\n",
            "39448     274     1274     4.0  1205707621), (380,        userId  movieId  rating   timestamp\n",
            "56889     380       44     4.0  1493667678\n",
            "56891     380       48     3.0  1493423481\n",
            "58070     380   167746     5.0  1508436102), (387,        userId  movieId  rating   timestamp\n",
            "59240     387       44     1.0  1182720368\n",
            "59241     387       45     2.5  1094877493\n",
            "59453     387     1274     4.5  1122954482)]\n"
          ]
        },
        {
          "output_type": "stream",
          "name": "stderr",
          "text": [
            "<ipython-input-42-b4951a471509>:6: FutureWarning: In a future version of pandas, a length 1 tuple will be returned when iterating over a groupby with a grouper equal to a list of length 1. Don't supply a list with a single grouper to avoid this warning.\n",
            "  userSubsetGroup = sorted(userSubsetGroup, key=take_5_elem, reverse=True)\n"
          ]
        }
      ]
    },
    {
      "cell_type": "code",
      "source": [
        "#Store the Pearson Correlation in a dictionary, where the key is the user Id and the value is the coefficient\n",
        "pearsonCorrelationDict = {}\n",
        "\n",
        "#For every user group in our subset\n",
        "for name, group in userSubsetGroup:\n",
        "\n",
        "    #Let's start by sorting the input and current user group so the values aren't mixed up later on\n",
        "    group = group.sort_values(by='movieId')\n",
        "    inputMovies = inputMovies.sort_values(by='movieId')\n",
        "\n",
        "    #Get the N for the formula\n",
        "    nRatings = len(group)\n",
        "\n",
        "    #Get the review scores for the movies that they both have in common\n",
        "    temp_df = inputMovies[inputMovies['movieId'].isin(group['movieId'].tolist())]\n",
        "\n",
        "    #And then store them in a temporary buffer variable in a list format to facilitate future calculations\n",
        "    tempRatingList = temp_df['rating'].tolist()\n",
        "\n",
        "    #Let's also put the current user group reviews in a list format\n",
        "    tempGroupList = group['rating'].tolist()\n",
        "\n",
        "\n",
        "    #Now let's calculate the pearson correlation between two users, so called, x and y manually (check the formula from week 7 slide)\n",
        "    Sxx = sum([i**2 for i in tempRatingList]) - pow(sum(tempRatingList),2)/float(nRatings)\n",
        "    Syy = sum([i**2 for i in tempGroupList]) - pow(sum(tempGroupList),2)/float(nRatings)\n",
        "    Sxy = sum( i*j for i, j in zip(tempRatingList, tempGroupList)) - sum(tempRatingList)*sum(tempGroupList)/float(nRatings)\n",
        "\n",
        "    #If the denominator is different than zero, then divide, else, 0 correlation.\n",
        "    if Sxx != 0 and Syy != 0:\n",
        "        pearsonCorrelationDict[name] = Sxy/sqrt(Sxx*Syy)\n",
        "    else:\n",
        "        pearsonCorrelationDict[name] = 0"
      ],
      "metadata": {
        "id": "TUxDp2GA14RC"
      },
      "execution_count": 43,
      "outputs": []
    },
    {
      "cell_type": "code",
      "source": [
        "pearsonDF = pd.DataFrame.from_dict(pearsonCorrelationDict, orient='index')\n",
        "pearsonDF.columns = ['similarityIndex']\n",
        "pearsonDF['userId'] = pearsonDF.index\n",
        "pearsonDF.index = range(len(pearsonDF))\n",
        "print(pearsonDF.head())"
      ],
      "metadata": {
        "colab": {
          "base_uri": "https://localhost:8080/"
        },
        "id": "0ciwN0OR15FA",
        "outputId": "3e8e48af-1bdb-4819-956a-43301db44696"
      },
      "execution_count": 44,
      "outputs": [
        {
          "output_type": "stream",
          "name": "stdout",
          "text": [
            "   similarityIndex  userId\n",
            "0         0.852803     414\n",
            "1         0.821995     182\n",
            "2         0.000000     274\n",
            "3         0.654654     380\n",
            "4         0.821995     387\n"
          ]
        }
      ]
    },
    {
      "cell_type": "code",
      "source": [
        "topUsers=pearsonDF.sort_values(by='similarityIndex', ascending=False)[0:50]\n",
        "print(topUsers.head())"
      ],
      "metadata": {
        "colab": {
          "base_uri": "https://localhost:8080/"
        },
        "id": "lYR8_la_1_Zk",
        "outputId": "cf54cdf1-6bd1-4ba5-9254-d001b040b023"
      },
      "execution_count": 45,
      "outputs": [
        {
          "output_type": "stream",
          "name": "stdout",
          "text": [
            "    similarityIndex  userId\n",
            "5               1.0     469\n",
            "30              1.0     428\n",
            "26              1.0     371\n",
            "24              1.0     316\n",
            "15              1.0     117\n"
          ]
        }
      ]
    },
    {
      "cell_type": "code",
      "source": [
        "topUsersRating=topUsers.merge(ratings_df, left_on='userId', right_on='userId', how='inner')\n",
        "print(topUsersRating.head(100))"
      ],
      "metadata": {
        "colab": {
          "base_uri": "https://localhost:8080/"
        },
        "id": "FSOE_XS32CGf",
        "outputId": "b5912f3a-5ec2-45fd-884a-87eb67d85c35"
      },
      "execution_count": 46,
      "outputs": [
        {
          "output_type": "stream",
          "name": "stdout",
          "text": [
            "    similarityIndex  userId  movieId  rating  timestamp\n",
            "0               1.0     469        1     4.0  965336888\n",
            "1               1.0     469        6     3.0  965336673\n",
            "2               1.0     469       10     2.0  965334356\n",
            "3               1.0     469       11     3.0  965425831\n",
            "4               1.0     469       29     4.0  965335401\n",
            "..              ...     ...      ...     ...        ...\n",
            "95              1.0     469     1080     5.0  965336888\n",
            "96              1.0     469     1082     4.0  965333459\n",
            "97              1.0     469     1086     4.0  965846225\n",
            "98              1.0     469     1089     5.0  965336673\n",
            "99              1.0     469     1090     4.0  965846279\n",
            "\n",
            "[100 rows x 5 columns]\n"
          ]
        }
      ]
    },
    {
      "cell_type": "code",
      "source": [
        "#Multiplies the similarity by the user’s ratings\n",
        "topUsersRating['weightedRating'] = topUsersRating['similarityIndex']*topUsersRating['rating']\n",
        "print(topUsersRating.head())"
      ],
      "metadata": {
        "colab": {
          "base_uri": "https://localhost:8080/"
        },
        "id": "PHWDj9uN2G7v",
        "outputId": "89d97f75-0448-4cf4-fcd5-0e78df7e05aa"
      },
      "execution_count": 47,
      "outputs": [
        {
          "output_type": "stream",
          "name": "stdout",
          "text": [
            "   similarityIndex  userId  movieId  rating  timestamp  weightedRating\n",
            "0              1.0     469        1     4.0  965336888             4.0\n",
            "1              1.0     469        6     3.0  965336673             3.0\n",
            "2              1.0     469       10     2.0  965334356             2.0\n",
            "3              1.0     469       11     3.0  965425831             3.0\n",
            "4              1.0     469       29     4.0  965335401             4.0\n"
          ]
        }
      ]
    },
    {
      "cell_type": "code",
      "source": [
        "#Applies a sum to the topUsers after grouping it up by movieId\n",
        "tempTopUsersRating = topUsersRating.groupby('movieId').sum()[['similarityIndex','weightedRating']]\n",
        "tempTopUsersRating.columns = ['sum_similarityIndex','sum_weightedRating']\n",
        "print(tempTopUsersRating.head())"
      ],
      "metadata": {
        "colab": {
          "base_uri": "https://localhost:8080/"
        },
        "id": "kIthiwWB2MZQ",
        "outputId": "2a8632af-cfd5-41fc-9427-c79e68e39048"
      },
      "execution_count": 48,
      "outputs": [
        {
          "output_type": "stream",
          "name": "stdout",
          "text": [
            "         sum_similarityIndex  sum_weightedRating\n",
            "movieId                                         \n",
            "1                  13.695477           50.637523\n",
            "2                   9.873482           31.813728\n",
            "3                   6.218828           17.393262\n",
            "5                   4.852803           13.205606\n",
            "6                   9.829451           36.780654\n"
          ]
        }
      ]
    },
    {
      "cell_type": "code",
      "source": [
        "#Creates an empty dataframe\n",
        "recommendation_df = pd.DataFrame()\n",
        "\n",
        "#Now we take the weighted average\n",
        "recommendation_df['weighted average recommendation score'] = tempTopUsersRating['sum_weightedRating']/tempTopUsersRating['sum_similarityIndex']\n",
        "recommendation_df['movieId'] = tempTopUsersRating.index\n",
        "print(recommendation_df.head(10))"
      ],
      "metadata": {
        "colab": {
          "base_uri": "https://localhost:8080/"
        },
        "id": "S3fHg3Oo2PGf",
        "outputId": "d60f6331-7e45-4d27-f36b-84f6423adc06"
      },
      "execution_count": 49,
      "outputs": [
        {
          "output_type": "stream",
          "name": "stdout",
          "text": [
            "         weighted average recommendation score  movieId\n",
            "movieId                                                \n",
            "1                                     3.697390        1\n",
            "2                                     3.222139        2\n",
            "3                                     2.796871        3\n",
            "5                                     2.721233        5\n",
            "6                                     3.741883        6\n",
            "7                                     3.402040        7\n",
            "8                                     3.000000        8\n",
            "9                                     1.833333        9\n",
            "10                                    3.542422       10\n",
            "11                                    3.684975       11\n"
          ]
        }
      ]
    },
    {
      "cell_type": "code",
      "source": [
        "recommendation_df = recommendation_df.sort_values(by='weighted average recommendation score', ascending=False)\n",
        "\n",
        "recommendation_df_sorted = recommendation_df[recommendation_df['weighted average recommendation score'] > 4.9]\n",
        "\n",
        "print(recommendation_df_sorted)"
      ],
      "metadata": {
        "colab": {
          "base_uri": "https://localhost:8080/"
        },
        "id": "57f76_5i2SLq",
        "outputId": "ed2c5929-8b61-41fc-83d3-4727df0ea272"
      },
      "execution_count": 50,
      "outputs": [
        {
          "output_type": "stream",
          "name": "stdout",
          "text": [
            "         weighted average recommendation score  movieId\n",
            "movieId                                                \n",
            "6192                                       5.0     6192\n",
            "1295                                       5.0     1295\n",
            "3925                                       5.0     3925\n",
            "56715                                      5.0    56715\n",
            "27523                                      5.0    27523\n",
            "...                                        ...      ...\n",
            "71033                                      5.0    71033\n",
            "1238                                       5.0     1238\n",
            "84273                                      5.0    84273\n",
            "1217                                       5.0     1217\n",
            "6442                                       5.0     6442\n",
            "\n",
            "[81 rows x 2 columns]\n"
          ]
        }
      ]
    },
    {
      "cell_type": "code",
      "source": [
        "recommended_movie = movies_df.loc[movies_df['movieId'].isin(recommendation_df_sorted['movieId'])]\n",
        "\n",
        "#we don't want to recommend the same movie\n",
        "recommended_movie = recommended_movie.loc[~recommended_movie.movieId.isin(userSubset['movieId'])]\n",
        "\n",
        "print(recommended_movie)"
      ],
      "metadata": {
        "colab": {
          "base_uri": "https://localhost:8080/"
        },
        "id": "BovrXGDN2VDS",
        "outputId": "57e37b0a-eb40-4c77-d458-74242e927791"
      },
      "execution_count": 51,
      "outputs": [
        {
          "output_type": "stream",
          "name": "stdout",
          "text": [
            "      movieId                                  title  \\\n",
            "251       290              Once Were Warriors (1994)   \n",
            "361       417                       Barcelona (1994)   \n",
            "835      1096                 Sophie's Choice (1982)   \n",
            "918      1217                             Ran (1985)   \n",
            "938      1238                      Local Hero (1983)   \n",
            "...       ...                                    ...   \n",
            "9497   170705                Band of Brothers (2001)   \n",
            "9546   172875               A Detective Story (2003)   \n",
            "9550   173145  War for the Planet of the Apes (2017)   \n",
            "9634   179135                  Blue Planet II (2017)   \n",
            "9688   184245                De platte jungle (1978)   \n",
            "\n",
            "                             genres  \n",
            "251                     Crime|Drama  \n",
            "361                  Comedy|Romance  \n",
            "835                           Drama  \n",
            "918                       Drama|War  \n",
            "938                          Comedy  \n",
            "...                             ...  \n",
            "9497               Action|Drama|War  \n",
            "9546               Animation|Sci-Fi  \n",
            "9550  Action|Adventure|Drama|Sci-Fi  \n",
            "9634                    Documentary  \n",
            "9688                    Documentary  \n",
            "\n",
            "[81 rows x 3 columns]\n"
          ]
        }
      ]
    }
  ]
}